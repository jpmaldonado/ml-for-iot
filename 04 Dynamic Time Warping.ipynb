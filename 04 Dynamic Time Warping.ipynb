{
 "cells": [
  {
   "cell_type": "markdown",
   "metadata": {},
   "source": [
    "# Time Series Classification and Clustering"
   ]
  },
  {
   "cell_type": "markdown",
   "metadata": {},
   "source": [
    "The Euclidean distance between two time series $Q$ and $C$ of length $n$ is defined as\n",
    "\n",
    "$$d(Q,C) = \\sqrt{\\sum^n_{i=1}[Q(i)-C(i)]^2}$$\n"
   ]
  },
  {
   "cell_type": "markdown",
   "metadata": {},
   "source": [
    "With a good similarity measure, small changes in two time series should result in small changes in their similarity.  With respect to Euclidean distance this is true for changes in the y-axis, but it is not true for changes in the time axis (i.e. compression and stretching).  Consider the following example."
   ]
  },
  {
   "cell_type": "code",
   "execution_count": 3,
   "metadata": {},
   "outputs": [
    {
     "data": {
      "image/png": "[encoded data removed]",
      "text/plain": [
       "<Figure size 432x288 with 1 Axes>"
      ]
     },
     "metadata": {},
     "output_type": "display_data"
    }
   ],
   "source": [
    "import pandas as pd\n",
    "import numpy as np\n",
    "import matplotlib.pyplot as plt\n",
    "%matplotlib inline \n",
    "\n",
    "x=np.linspace(0,50,100)\n",
    "ts1=pd.Series(3.1*np.sin(x/1.5)+3.5)\n",
    "ts2=pd.Series(2.2*np.sin(x/3.5+2.4)+3.2)\n",
    "ts3=pd.Series(0.04*x+3.0)\n",
    "\n",
    "ts1.plot()\n",
    "ts2.plot()\n",
    "ts3.plot()\n",
    "\n",
    "plt.ylim(-2,10)\n",
    "plt.legend(['ts1','ts2','ts3'])\n",
    "plt.show()"
   ]
  },
  {
   "cell_type": "markdown",
   "metadata": {},
   "source": [
    "In the above example, it is clear that $ts1$ and $ts2$ are most similar (they are both $sin$ functions under different transformations).  $ts3$ is clearly the most different. Let's compute the Euclidean distance $d(ts1,ts2)$ and $d(ts1,ts3)$ to see if the Euclidean distance measure agrees with what our intuition tells us.  Let's first create a function that computes the Euclidean distance between two time series."
   ]
  },
  {
   "cell_type": "code",
   "execution_count": 4,
   "metadata": {},
   "outputs": [],
   "source": [
    "def euclid_dist(t1,t2):\n",
    "    return np.sqrt(sum((t1-t2)**2))"
   ]
  },
  {
   "cell_type": "markdown",
   "metadata": {},
   "source": [
    "Let's now find the Euclidean distance between $ts1$ and $ts2$"
   ]
  },
  {
   "cell_type": "code",
   "execution_count": 5,
   "metadata": {},
   "outputs": [
    {
     "name": "stdout",
     "output_type": "stream",
     "text": [
      "26.959216037969345\n"
     ]
    }
   ],
   "source": [
    "print(euclid_dist(ts1,ts2))"
   ]
  },
  {
   "cell_type": "markdown",
   "metadata": {},
   "source": [
    "and the Euclidean distance between $ts1$ and $ts3$"
   ]
  },
  {
   "cell_type": "code",
   "execution_count": 6,
   "metadata": {},
   "outputs": [
    {
     "name": "stdout",
     "output_type": "stream",
     "text": [
      "23.189249190311056\n"
     ]
    }
   ],
   "source": [
    "print(euclid_dist(ts1,ts3))"
   ]
  },
  {
   "cell_type": "markdown",
   "metadata": {},
   "source": [
    "This is not good because according to the Euclidean distance measure, $ts1$ is more similar to $ts3$ than to $ts2$ which contradicts our intuition.  This is the problem with using the Euclidean distance measure.  It often produced pessimistic similarity measures when it encounters distortion in the time axis.  The way to deal with this is to use dynamic time warping."
   ]
  },
  {
   "cell_type": "markdown",
   "metadata": {},
   "source": [
    "## Dynamic Time Warping"
   ]
  },
  {
   "cell_type": "markdown",
   "metadata": {},
   "source": [
    "Dynamic time warping finds the optimal non-linear alignment between two time series.  The Euclidean distances between alignments are then much less susceptable to pessimistic similarity measurements due to distortion in the time axis.  There is a price to pay for this, however, because dynamic time warping is quadratic in the length of the time series used."
   ]
  },
  {
   "cell_type": "markdown",
   "metadata": {},
   "source": [
    "Dynamic time warping works in the following way. Consider two time series $Q$ and $C$ of the same length $n$ where $$Q=q_1,q_2,...,q_n$$ and $$C=c_1,c_2,...,c_n$$ The first thing we do is construct an $n\\times n$ matrix whose $i,j^{th}$ element is the Euclidean distance between $q_i$ and $c_j$.  We want to find a path through this matrix that minimizes the cumulative distance.  This path then determines the optimal alignment between the two time series.  It should be noted that it is possible for one point in a time series to be mapped to multiple points in the other time series."
   ]
  },
  {
   "cell_type": "markdown",
   "metadata": {},
   "source": [
    "Let's call the path $W$ where $$W=w_1,w_2,...,w_K$$ where each element of $W$ represents the distance between a point $i$ in $Q$ and a point $j$ in $C$ i.e. $w_k=(q_i-c_j)^2$"
   ]
  },
  {
   "cell_type": "markdown",
   "metadata": {},
   "source": [
    "So we want to find the path with the minimum Euclidean distance $$W^*= \\min_W(\\sqrt{\\sum_{k=1}^Kw_k})$$ The optimal path is found via dynamic programming, specifically the following recursive function. $$DTW(i,j)=d(q_i,c_j)+\\min( DTW(i-1,j-1),DTW(i-1,j),DTW(i,j-1))$$ "
   ]
  },
  {
   "cell_type": "code",
   "execution_count": 7,
   "metadata": {},
   "outputs": [],
   "source": [
    "def DTWDistance(s1, s2):\n",
    "    DTW={}\n",
    "    \n",
    "    for i in range(len(s1)):\n",
    "        DTW[(i, -1)] = float('inf')\n",
    "    for i in range(len(s2)):\n",
    "        DTW[(-1, i)] = float('inf')\n",
    "    DTW[(-1, -1)] = 0\n",
    "\n",
    "    for i in range(len(s1)):\n",
    "        for j in range(len(s2)):\n",
    "            dist= (s1[i]-s2[j])**2\n",
    "            DTW[(i, j)] = dist + min(DTW[(i-1, j)],DTW[(i, j-1)], DTW[(i-1, j-1)])\n",
    "    return np.sqrt(DTW[len(s1)-1, len(s2)-1]), DTW"
   ]
  },
  {
   "cell_type": "code",
   "execution_count": 8,
   "metadata": {},
   "outputs": [],
   "source": [
    "_, DTWMatrix = DTWDistance(ts1,ts2)"
   ]
  },
  {
   "cell_type": "code",
   "execution_count": 12,
   "metadata": {},
   "outputs": [],
   "source": [
    "M = np.zeros((len(ts1), len(ts2)))"
   ]
  },
  {
   "cell_type": "code",
   "execution_count": 14,
   "metadata": {},
   "outputs": [],
   "source": [
    "for i in range(len(ts1)):\n",
    "    for j in range(len(ts2)):\n",
    "        M[i,j] = DTWMatrix[(i,j)]"
   ]
  },
  {
   "cell_type": "code",
   "execution_count": 16,
   "metadata": {},
   "outputs": [],
   "source": [
    "import seaborn as sns"
   ]
  },
  {
   "cell_type": "code",
   "execution_count": 17,
   "metadata": {},
   "outputs": [
    {
     "data": {
      "text/plain": [
       "<matplotlib.axes._subplots.AxesSubplot at 0x1fb363ff128>"
      ]
     },
     "execution_count": 17,
     "metadata": {},
     "output_type": "execute_result"
    },
    {
     "data": {
      "image/png": "[encoded data removed]",
      "text/plain": [
       "<Figure size 432x288 with 2 Axes>"
      ]
     },
     "metadata": {},
     "output_type": "display_data"
    }
   ],
   "source": [
    "sns.heatmap(M)"
   ]
  },
  {
   "cell_type": "markdown",
   "metadata": {},
   "source": [
    "Now let's compute the Euclidean distance between $ts1$ and $ts2$ using dynamic time warping."
   ]
  },
  {
   "cell_type": "code",
   "execution_count": 6,
   "metadata": {},
   "outputs": [
    {
     "name": "stdout",
     "output_type": "stream",
     "text": [
      "17.929718468641138\n"
     ]
    }
   ],
   "source": [
    "print(DTWDistance(ts1,ts2))"
   ]
  },
  {
   "cell_type": "markdown",
   "metadata": {},
   "source": [
    "and now the dynamic time warping distance between $ts1$ and $ts3$"
   ]
  },
  {
   "cell_type": "code",
   "execution_count": 7,
   "metadata": {},
   "outputs": [
    {
     "name": "stdout",
     "output_type": "stream",
     "text": [
      "21.549494824404572\n"
     ]
    }
   ],
   "source": [
    "print(DTWDistance(ts1,ts3))"
   ]
  },
  {
   "cell_type": "markdown",
   "metadata": {},
   "source": [
    "## Classification"
   ]
  },
  {
   "cell_type": "code",
   "execution_count": 8,
   "metadata": {},
   "outputs": [],
   "source": [
    "train = pd.read_csv('./data/train.csv', delimiter='\\t', header=None)\n",
    "test = pd.read_csv('./data/test.csv', delimiter='\\t', header=None)"
   ]
  },
  {
   "cell_type": "code",
   "execution_count": 9,
   "metadata": {},
   "outputs": [
    {
     "data": {
      "text/html": [
       "<div>\n",
       "<style scoped>\n",
       "    .dataframe tbody tr th:only-of-type {\n",
       "        vertical-align: middle;\n",
       "    }\n",
       "\n",
       "    .dataframe tbody tr th {\n",
       "        vertical-align: top;\n",
       "    }\n",
       "\n",
       "    .dataframe thead th {\n",
       "        text-align: right;\n",
       "    }\n",
       "</style>\n",
       "<table border=\"1\" class=\"dataframe\">\n",
       "  <thead>\n",
       "    <tr style=\"text-align: right;\">\n",
       "      <th></th>\n",
       "      <th>0</th>\n",
       "      <th>1</th>\n",
       "      <th>2</th>\n",
       "      <th>3</th>\n",
       "      <th>4</th>\n",
       "      <th>5</th>\n",
       "      <th>6</th>\n",
       "      <th>7</th>\n",
       "      <th>8</th>\n",
       "      <th>9</th>\n",
       "      <th>...</th>\n",
       "      <th>51</th>\n",
       "      <th>52</th>\n",
       "      <th>53</th>\n",
       "      <th>54</th>\n",
       "      <th>55</th>\n",
       "      <th>56</th>\n",
       "      <th>57</th>\n",
       "      <th>58</th>\n",
       "      <th>59</th>\n",
       "      <th>60</th>\n",
       "    </tr>\n",
       "  </thead>\n",
       "  <tbody>\n",
       "    <tr>\n",
       "      <th>0</th>\n",
       "      <td>-0.376936</td>\n",
       "      <td>1.224864</td>\n",
       "      <td>0.343874</td>\n",
       "      <td>0.328454</td>\n",
       "      <td>-0.337609</td>\n",
       "      <td>1.026514</td>\n",
       "      <td>-1.330996</td>\n",
       "      <td>-0.657800</td>\n",
       "      <td>1.446077</td>\n",
       "      <td>-0.846397</td>\n",
       "      <td>...</td>\n",
       "      <td>-1.568165</td>\n",
       "      <td>1.021863</td>\n",
       "      <td>-1.429748</td>\n",
       "      <td>1.356966</td>\n",
       "      <td>1.372781</td>\n",
       "      <td>0.663558</td>\n",
       "      <td>0.918346</td>\n",
       "      <td>-1.311742</td>\n",
       "      <td>-1.197146</td>\n",
       "      <td>1</td>\n",
       "    </tr>\n",
       "    <tr>\n",
       "      <th>1</th>\n",
       "      <td>0.644406</td>\n",
       "      <td>0.413269</td>\n",
       "      <td>-0.862278</td>\n",
       "      <td>-1.497386</td>\n",
       "      <td>-0.421458</td>\n",
       "      <td>-0.214215</td>\n",
       "      <td>-1.292131</td>\n",
       "      <td>0.956898</td>\n",
       "      <td>-1.216140</td>\n",
       "      <td>-0.588536</td>\n",
       "      <td>...</td>\n",
       "      <td>-0.802528</td>\n",
       "      <td>-1.121287</td>\n",
       "      <td>0.989319</td>\n",
       "      <td>-1.109687</td>\n",
       "      <td>0.219856</td>\n",
       "      <td>0.630034</td>\n",
       "      <td>1.398140</td>\n",
       "      <td>0.085742</td>\n",
       "      <td>0.024997</td>\n",
       "      <td>1</td>\n",
       "    </tr>\n",
       "    <tr>\n",
       "      <th>2</th>\n",
       "      <td>-0.978667</td>\n",
       "      <td>-0.406232</td>\n",
       "      <td>0.822429</td>\n",
       "      <td>-1.408242</td>\n",
       "      <td>-1.676734</td>\n",
       "      <td>-0.490632</td>\n",
       "      <td>1.404598</td>\n",
       "      <td>1.168600</td>\n",
       "      <td>-1.703254</td>\n",
       "      <td>0.972810</td>\n",
       "      <td>...</td>\n",
       "      <td>-0.762884</td>\n",
       "      <td>1.382972</td>\n",
       "      <td>-0.869103</td>\n",
       "      <td>1.277252</td>\n",
       "      <td>-0.198967</td>\n",
       "      <td>0.966809</td>\n",
       "      <td>0.666129</td>\n",
       "      <td>0.106996</td>\n",
       "      <td>0.082715</td>\n",
       "      <td>1</td>\n",
       "    </tr>\n",
       "    <tr>\n",
       "      <th>3</th>\n",
       "      <td>-0.236537</td>\n",
       "      <td>-0.098175</td>\n",
       "      <td>0.367092</td>\n",
       "      <td>1.366860</td>\n",
       "      <td>0.498281</td>\n",
       "      <td>-0.300223</td>\n",
       "      <td>1.715634</td>\n",
       "      <td>0.902108</td>\n",
       "      <td>-0.218132</td>\n",
       "      <td>-1.430721</td>\n",
       "      <td>...</td>\n",
       "      <td>-1.499604</td>\n",
       "      <td>0.406744</td>\n",
       "      <td>1.289153</td>\n",
       "      <td>-1.119731</td>\n",
       "      <td>-0.995985</td>\n",
       "      <td>1.651135</td>\n",
       "      <td>-1.187098</td>\n",
       "      <td>0.025463</td>\n",
       "      <td>-0.841518</td>\n",
       "      <td>1</td>\n",
       "    </tr>\n",
       "    <tr>\n",
       "      <th>4</th>\n",
       "      <td>1.490735</td>\n",
       "      <td>1.325243</td>\n",
       "      <td>1.626829</td>\n",
       "      <td>-0.317056</td>\n",
       "      <td>-1.098990</td>\n",
       "      <td>-0.022213</td>\n",
       "      <td>0.596980</td>\n",
       "      <td>1.667339</td>\n",
       "      <td>-0.206153</td>\n",
       "      <td>-1.376627</td>\n",
       "      <td>...</td>\n",
       "      <td>1.029995</td>\n",
       "      <td>-1.496161</td>\n",
       "      <td>-1.167442</td>\n",
       "      <td>1.484208</td>\n",
       "      <td>-0.373020</td>\n",
       "      <td>-0.843281</td>\n",
       "      <td>-0.209794</td>\n",
       "      <td>0.137724</td>\n",
       "      <td>0.716542</td>\n",
       "      <td>1</td>\n",
       "    </tr>\n",
       "  </tbody>\n",
       "</table>\n",
       "<p>5 rows × 61 columns</p>\n",
       "</div>"
      ],
      "text/plain": [
       "         0         1         2         3         4         5         6   \\\n",
       "0 -0.376936  1.224864  0.343874  0.328454 -0.337609  1.026514 -1.330996   \n",
       "1  0.644406  0.413269 -0.862278 -1.497386 -0.421458 -0.214215 -1.292131   \n",
       "2 -0.978667 -0.406232  0.822429 -1.408242 -1.676734 -0.490632  1.404598   \n",
       "3 -0.236537 -0.098175  0.367092  1.366860  0.498281 -0.300223  1.715634   \n",
       "4  1.490735  1.325243  1.626829 -0.317056 -1.098990 -0.022213  0.596980   \n",
       "\n",
       "         7         8         9   ...        51        52        53        54  \\\n",
       "0 -0.657800  1.446077 -0.846397  ... -1.568165  1.021863 -1.429748  1.356966   \n",
       "1  0.956898 -1.216140 -0.588536  ... -0.802528 -1.121287  0.989319 -1.109687   \n",
       "2  1.168600 -1.703254  0.972810  ... -0.762884  1.382972 -0.869103  1.277252   \n",
       "3  0.902108 -0.218132 -1.430721  ... -1.499604  0.406744  1.289153 -1.119731   \n",
       "4  1.667339 -0.206153 -1.376627  ...  1.029995 -1.496161 -1.167442  1.484208   \n",
       "\n",
       "         55        56        57        58        59  60  \n",
       "0  1.372781  0.663558  0.918346 -1.311742 -1.197146   1  \n",
       "1  0.219856  0.630034  1.398140  0.085742  0.024997   1  \n",
       "2 -0.198967  0.966809  0.666129  0.106996  0.082715   1  \n",
       "3 -0.995985  1.651135 -1.187098  0.025463 -0.841518   1  \n",
       "4 -0.373020 -0.843281 -0.209794  0.137724  0.716542   1  \n",
       "\n",
       "[5 rows x 61 columns]"
      ]
     },
     "execution_count": 9,
     "metadata": {},
     "output_type": "execute_result"
    }
   ],
   "source": [
    "train.head()"
   ]
  },
  {
   "cell_type": "code",
   "execution_count": 10,
   "metadata": {},
   "outputs": [],
   "source": [
    "X_train = train.iloc[:, :-1]\n",
    "y_train = train.iloc[:,-1]\n",
    "X_test = test.iloc[:, :-1]\n",
    "y_test = test.iloc[:,-1]"
   ]
  },
  {
   "cell_type": "code",
   "execution_count": 11,
   "metadata": {},
   "outputs": [],
   "source": [
    "from sklearn.neighbors import KNeighborsClassifier\n",
    "\n",
    "knn = KNeighborsClassifier(metric=DTWDistance)"
   ]
  },
  {
   "cell_type": "markdown",
   "metadata": {},
   "source": [
    "The same idea can also be applied to k-means clustering.  In this algorithm, the number of clusters is set _apriori_ and similar time series are clustered together."
   ]
  },
  {
   "cell_type": "code",
   "execution_count": 12,
   "metadata": {},
   "outputs": [
    {
     "data": {
      "text/plain": [
       "KNeighborsClassifier(algorithm='auto', leaf_size=30,\n",
       "           metric=<function DTWDistance at 0x00000152FA7D1268>,\n",
       "           metric_params=None, n_jobs=1, n_neighbors=5, p=2,\n",
       "           weights='uniform')"
      ]
     },
     "execution_count": 12,
     "metadata": {},
     "output_type": "execute_result"
    }
   ],
   "source": [
    "knn.fit(X_train, y_train)"
   ]
  },
  {
   "cell_type": "code",
   "execution_count": 27,
   "metadata": {},
   "outputs": [],
   "source": [
    "y_pred = knn.predict(X_test)"
   ]
  },
  {
   "cell_type": "code",
   "execution_count": 24,
   "metadata": {},
   "outputs": [
    {
     "name": "stdout",
     "output_type": "stream",
     "text": [
      "             precision    recall  f1-score   support\n",
      "\n",
      "          1       0.35      1.00      0.52        50\n",
      "          2       0.00      0.00      0.00        50\n",
      "          3       1.00      0.86      0.92        50\n",
      "          4       0.94      0.94      0.94        50\n",
      "          5       1.00      0.54      0.70        50\n",
      "          6       1.00      0.68      0.81        50\n",
      "\n",
      "avg / total       0.71      0.67      0.65       300\n",
      "\n"
     ]
    }
   ],
   "source": [
    "from sklearn.metrics import classification_report\n",
    "print(classification_report(y_test, y_pred))"
   ]
  },
  {
   "cell_type": "markdown",
   "metadata": {},
   "source": [
    "# Your turn!"
   ]
  },
  {
   "cell_type": "markdown",
   "metadata": {},
   "source": [
    "Calculating `DTWDistance` is awfully slow. Instead let's replace the inner loop by looking only on a window of size `w` around $s1[i]$ (that is, between $s1[i]-w$ and $s1[i]+w$)."
   ]
  },
  {
   "cell_type": "code",
   "execution_count": 25,
   "metadata": {},
   "outputs": [],
   "source": [
    "def FastDTWDistance(s1, s2, **kwargs):\n",
    "    w = kwargs[\"metric_params\"][\"w\"] #sklearn 0.19\n",
    "    w = kwargs[\"w\"] #sklearn 0.20\n",
    "    #/* your function here */\n",
    "    pass"
   ]
  },
  {
   "cell_type": "code",
   "execution_count": 20,
   "metadata": {},
   "outputs": [],
   "source": [
    "def TestFastDTWDistance(s1, s2, w):\n",
    "    DTW={}\n",
    "    \n",
    "    w = max(w, abs(len(s1)-len(s2)))\n",
    "    \n",
    "    for i in range(-1,len(s1)):\n",
    "        for j in range(-1,len(s2)):\n",
    "            DTW[(i, j)] = float('inf')\n",
    "    DTW[(-1, -1)] = 0\n",
    "  \n",
    "    for i in range(len(s1)):\n",
    "        for j in range(max(0, i-w), min(len(s2), i+w)):\n",
    "            dist= (s1[i]-s2[j])**2\n",
    "            DTW[(i, j)] = dist + min(DTW[(i-1, j)],DTW[(i, j-1)], DTW[(i-1, j-1)])\n",
    "    return np.sqrt(DTW[len(s1)-1, len(s2)-1])"
   ]
  },
  {
   "cell_type": "code",
   "execution_count": null,
   "metadata": {},
   "outputs": [],
   "source": []
  },
  {
   "cell_type": "markdown",
   "metadata": {},
   "source": [
    "You can call it as follows:"
   ]
  },
  {
   "cell_type": "code",
   "execution_count": 26,
   "metadata": {},
   "outputs": [],
   "source": [
    "fast_knn_dtw = KNeighborsClassifier(metric=FastDTWDistance, metric_params={\"w\":5})"
   ]
  },
  {
   "cell_type": "markdown",
   "metadata": {},
   "source": [
    "Another way to speed things up is to use the _LB Keogh_ lower bound of dynamic time warping.  It is defined as $$LBKeogh(Q,C)= \\sqrt{\\sum_{i=1}^n (c_i-U_i)^2I(c_i > U_i)+(c_i-L_i)^2I(c_i < L_i)}$$\n",
    "where $U_i$ and $L_i$ are upper and lower bounds for time series $Q$ which are defined as $U_i=max(q_{i-r}:q_{i+r})$ and $L_i=min(q_{i-r}:q_{i+r})$ for a reach $r$ and $I(\\cdot)$ is the indicator function. Here, `r` is a hyperparameter (user-given)."
   ]
  },
  {
   "cell_type": "code",
   "execution_count": 14,
   "metadata": {},
   "outputs": [],
   "source": [
    "def LBKeoghDistance(s1,s2,**kwargs):\n",
    "    LB_sum=0\n",
    "    r = kwargs[\"metric_params\"][\"r\"]\n",
    "    pass"
   ]
  },
  {
   "cell_type": "markdown",
   "metadata": {},
   "source": [
    "### Solution:"
   ]
  },
  {
   "cell_type": "code",
   "execution_count": null,
   "metadata": {},
   "outputs": [],
   "source": [
    "def LBKeoghDistance(s1,s2,**kwargs):\n",
    "    LB_sum=0\n",
    "    for ind,i in enumerate(s1):\n",
    "        \n",
    "        lower_bound=min(s2[(ind-r if ind-r>=0 else 0):(ind+r)])\n",
    "        upper_bound=max(s2[(ind-r if ind-r>=0 else 0):(ind+r)])\n",
    "        \n",
    "        if i>upper_bound:\n",
    "            LB_sum=LB_sum+(i-upper_bound)**2\n",
    "        elif i<lower_bound:\n",
    "            LB_sum=LB_sum+(i-lower_bound)**2\n",
    "    \n",
    "    return np.sqrt(LB_sum)"
   ]
  }
 ],
 "metadata": {
  "kernelspec": {
   "display_name": "Python 3",
   "language": "python",
   "name": "python3"
  },
  "language_info": {
   "codemirror_mode": {
    "name": "ipython",
    "version": 3
   },
   "file_extension": ".py",
   "mimetype": "text/x-python",
   "name": "python",
   "nbconvert_exporter": "python",
   "pygments_lexer": "ipython3",
   "version": "3.6.4"
  }
 },
 "nbformat": 4,
 "nbformat_minor": 1
}
